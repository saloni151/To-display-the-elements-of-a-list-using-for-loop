{
 "cells": [
  {
   "cell_type": "markdown",
   "id": "6f213693-2d19-4c71-88f2-ba01f06ff6be",
   "metadata": {},
   "source": [
    "**Write a python program to display the elements of a list using for loop**"
   ]
  },
  {
   "cell_type": "code",
   "execution_count": 1,
   "id": "901c36bf-efc9-4d68-ace7-32556c16e7c4",
   "metadata": {},
   "outputs": [],
   "source": [
    "l=[5, 65.5,32,55,\"Python\"]"
   ]
  },
  {
   "cell_type": "code",
   "execution_count": 2,
   "id": "2db5b5c1-a848-4b4e-ae02-10a94c4e670d",
   "metadata": {},
   "outputs": [
    {
     "name": "stdout",
     "output_type": "stream",
     "text": [
      "5\n",
      "65.5\n",
      "32\n",
      "55\n",
      "Python\n"
     ]
    }
   ],
   "source": [
    "for elements in l:\n",
    "    print(elements)"
   ]
  },
  {
   "cell_type": "code",
   "execution_count": null,
   "id": "81a4711d-2074-4ff0-ae79-87b8d8c34c6f",
   "metadata": {},
   "outputs": [],
   "source": []
  },
  {
   "cell_type": "code",
   "execution_count": null,
   "id": "8b0fdc19-c143-4751-aa9f-e9d953ca56ae",
   "metadata": {},
   "outputs": [],
   "source": []
  },
  {
   "cell_type": "code",
   "execution_count": null,
   "id": "2d8b48a5-544c-4be6-9fc7-e03ab5310a55",
   "metadata": {},
   "outputs": [],
   "source": []
  },
  {
   "cell_type": "code",
   "execution_count": null,
   "id": "34e3dbd0-ffc2-4766-a261-ff1b04ec535f",
   "metadata": {},
   "outputs": [],
   "source": []
  }
 ],
 "metadata": {
  "kernelspec": {
   "display_name": "Python 3 (ipykernel)",
   "language": "python",
   "name": "python3"
  },
  "language_info": {
   "codemirror_mode": {
    "name": "ipython",
    "version": 3
   },
   "file_extension": ".py",
   "mimetype": "text/x-python",
   "name": "python",
   "nbconvert_exporter": "python",
   "pygments_lexer": "ipython3",
   "version": "3.12.7"
  }
 },
 "nbformat": 4,
 "nbformat_minor": 5
}
